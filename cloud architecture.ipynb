{
  "nbformat": 4,
  "nbformat_minor": 0,
  "metadata": {
    "colab": {
      "provenance": [],
      "toc_visible": true
    },
    "kernelspec": {
      "name": "python3",
      "display_name": "Python 3"
    },
    "language_info": {
      "name": "python"
    }
  },
  "cells": [
    {
      "cell_type": "markdown",
      "source": [
        "# Objetivos del proyecto: \n",
        "Generar una herramienta que permita concentrar los materiales con comportamiento de ventas similar a lo largo de un periodo de tiempo, identificando patrones similares entre cada uno, **el objetivo es determinar grupos con comportamiento en ventas similares** para mejorar la precisión en sus pronósticos de ventas\n",
        "\n",
        "\n",
        "\n",
        "\n",
        "\n"
      ],
      "metadata": {
        "id": "Bq0Usgafdmse"
      }
    },
    {
      "cell_type": "markdown",
      "source": [
        "##2.\tIdentificar los datos necesarios: \n",
        "Para la generación de la información necesaria se utilizaron fuentes internas de la empresa, se sugiere pensando en generar una arquitectura de MLOPS robusta, la implementación Azure, y su set de herramientas que permiten un desarrollo más fluido y confiable; desde las herramientas de Azure se optaría por la gestión de datos con la herramienta **Azure Data Factory**, herramienta que permite la gestión del flujo de trabajo, desde allí generar las transformaciones necesarias, a partir del calculo de la venta periodo a periodo de cada material, calcular sus estadísticos principales y a partir de allí calcular también las variaciones periodo a periodo, estandarizando la información en escalas diferentes y permitiendo una disposición de datos correcta para iniciar con el entrenamiento\n"
      ],
      "metadata": {
        "id": "73aXXkfFfx1Z"
      }
    },
    {
      "cell_type": "markdown",
      "source": [
        "\n",
        "##3.\tSeleccionar la arquitectura del modelo y entrenamiento:\n",
        "La arquitectura del modelo se definiría a través de **Azure Machine** Learning herramienta sobre la que se soportaría toda la operación de ML, misma que básicamente será un desarrollo para evaluar las alternativas de clustering y cual de ellas puede adaptarse mejor al tipo de datos que se tienen, pues anticipadamente se prevé un comportamiento no lineal entre los periodos de ventas, pero es importante determinar los posibles números de clúster y como estos pueden responder mejor ante los diferentes técnicas \n"
      ],
      "metadata": {
        "id": "324mG5P9f1kO"
      }
    },
    {
      "cell_type": "markdown",
      "source": [
        "\n",
        "##4.\tImplementar el modelo:\n",
        "Considerando las dimensiones no muy grandes del desarrollo generado y que este pueda ser usado de forma global para las personas implicadas con la planeación de demanda de la organización, sería una buena solución colgarlo de manera permanente, de fácil acceso y rápida ejecución, **Azure Functions** podría cumplir todas las demandas generadas para la correcta ejecución de este modelo de clusterización, si bien no se tienen actualmente un volumen alto de datos a través de esta herramienta se podía gestionar su posible incremento paulatino, además de que su cobro se genera sobre demanda, evitando sobrecostos innecesarios.\n",
        "\n"
      ],
      "metadata": {
        "id": "qH_J2NOgf4Xm"
      }
    },
    {
      "cell_type": "markdown",
      "source": [
        "##5.\tMonitoreo y mantenimiento:\n",
        "Para un acople mas preciso de lo requerido en el desarrollo **Azure Application Insights** seria una opción que aporta mucho al momento de seguir el rendimiento de la aplicación, pues permite detecta problemas de rendimiento, evaluando si realmente se desenvuelve de la manera esperada o si su ejecución tiene cambios en sus distribuciones, evaluar las solicitudes realizadas y las respuestas a las mismas, para en conjunto con el equipo de demanda revisar el ajuste en ese momento, así mismo su acople práctico con demás herramientas integradas genera una robustes que aumenta la confiablidad para su uso\n",
        "\n"
      ],
      "metadata": {
        "id": "kofYgKjmf6Du"
      }
    },
    {
      "cell_type": "markdown",
      "source": [
        "##6.\tAlmacenamiento de datos, peticiones, respuestas y métricas:\n",
        "Sobre el mismo canal generado a través de la estructura Azure se sugiere un ambiente integrado de la misma familia de herramientas que permite la gestión de diferentes tipos de archivo **Azure Blob Storage**, presenta una gran ventaja sobre otras herramientas al permitir datos con diferentes estructuras, pues es un repositorio importante de información sobre el que puede confiar las métricas históricas y la data de entrenamiento original, esta integración permite a lo largo del tiempo la revisión programada y sistemática de las distribuciones de información que ingresa al modelo en calidad de petición, fundamental para un performance eficaz.\n"
      ],
      "metadata": {
        "id": "cC8rIx1kf74B"
      }
    },
    {
      "cell_type": "markdown",
      "source": [
        "\n",
        "##7.\tVersionamiento:\n",
        "Si bien Azure permite a través de algunas de sus herramientas un vesionamiento confiable y robusto, **GitHub** representa también una alternativa vigente, su familiaridad con el equipo de desarrollo y su interfaz conocida e intuitiva permite a través de las ramas y la integración de submódulos un acople sano para el desarrollo del proyecto"
      ],
      "metadata": {
        "id": "MBiZS-kxf9dQ"
      }
    }
  ]
}